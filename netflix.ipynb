{
 "cells": [
  {
   "cell_type": "markdown",
   "id": "1f364529",
   "metadata": {},
   "source": [
    "                                                                                       ** Netflix MOvies Analysis **"
   ]
  },
  {
   "cell_type": "code",
   "execution_count": null,
   "id": "29ee9498-6c59-42a2-accd-9d3bfd2b5191",
   "metadata": {},
   "outputs": [],
   "source": [
    "import pandas as pd\n",
    "import numpy as np\n",
    "import matplotlib.pyplot as plt\n",
    "import seaborn as sns "
   ]
  },
  {
   "cell_type": "code",
   "execution_count": null,
   "id": "f702f28d-52c9-4ec8-a6f0-2d55856d5c8f",
   "metadata": {},
   "outputs": [],
   "source": [
    "data = pd.read_csv(\"mymoviedb.csv\" , lineterminator = '\\n' , encoding=\"latin1\")\n",
    "print(data.head())\n",
    "print(data.shape)\n",
    "# encoding as pc dont understand text so we convert text into bytes etc with encoding such as latin 1 , or utf-8 windows-1252 etc\n",
    "# lineterminator if we want to go in next line and our data display in systematic way with the help of lineterminator otherwise it didnt look appealing"
   ]
  },
  {
   "cell_type": "code",
   "execution_count": null,
   "id": "61365a59",
   "metadata": {},
   "outputs": [],
   "source": [
    "data[\"Vote_Count\"] = pd.to_numeric(data[\"Vote_Count\"], errors=\"coerce\").astype(\"Int64\")  # Int64 handles NaN\n",
    "# Convert vote_average to float\n",
    "data[\"Vote_Average\"] = pd.to_numeric(data[\"Vote_Average\"], errors=\"coerce\").astype(\"float64\")\n",
    "\n",
    "# Verify types\n",
    "print(data.dtypes)\n",
    "data.info()\n",
    "# in release data col we need to change the object datatype to date and time"
   ]
  },
  {
   "cell_type": "code",
   "execution_count": null,
   "id": "3b5e7853",
   "metadata": {},
   "outputs": [],
   "source": [
    "data['Genre'].head()\n",
    "# in the output the space between them after col we need to remove in preprocessing step"
   ]
  },
  {
   "cell_type": "code",
   "execution_count": null,
   "id": "ab740ef8",
   "metadata": {},
   "outputs": [],
   "source": [
    "data.duplicated().sum()"
   ]
  },
  {
   "cell_type": "code",
   "execution_count": null,
   "id": "d614cd52",
   "metadata": {},
   "outputs": [],
   "source": [
    "data.describe()"
   ]
  },
  {
   "cell_type": "markdown",
   "id": "56e8fdfe",
   "metadata": {},
   "source": [
    "* Exploratyion Summary\n",
    "\n",
    "* our data consist of 9827 rows and 9 cols.\n",
    "* Our data set is tidy means it didn't have nan values or duplicated values.\n",
    "* Release date col need to be formated in date time and to extract only year vale.\n",
    "* overvies language and poster col is not useful during analysis so we drop them.\n",
    "* there is noticeble outliers in popularity col.\n",
    "* Vote average better be categorized for proper analysis.\n",
    "* Genre col has comma seperated value and white space that needed to be handle and casted in to category."
   ]
  },
  {
   "cell_type": "code",
   "execution_count": null,
   "id": "8d8096c8",
   "metadata": {},
   "outputs": [],
   "source": [
    "data['Release_Date'].head()"
   ]
  },
  {
   "cell_type": "code",
   "execution_count": null,
   "id": "a2591762",
   "metadata": {},
   "outputs": [],
   "source": [
    "data['Release_Date'] = pd.to_datetime(data['Release_Date'], errors=\"coerce\")\n",
    "# check datatype\n",
    "print(data['Release_Date'].dtypes)\n",
    "# Step 2: Extract year, allowing for missing values\n",
    "data['Release_Date'] = data['Release_Date'].dt.year.astype('Int64')  # nullable integer\n",
    "# Step 3: Check data type\n",
    "print(data['Release_Date'].dtypes)"
   ]
  },
  {
   "cell_type": "code",
   "execution_count": null,
   "id": "dfa460fd",
   "metadata": {},
   "outputs": [],
   "source": [
    "data.head()"
   ]
  },
  {
   "cell_type": "code",
   "execution_count": null,
   "id": "970bd690",
   "metadata": {},
   "outputs": [],
   "source": [
    "cols = ['Overview','Original_Language','Poster_Url\\r']\n",
    "data.drop(cols , axis = 1 , inplace = True , errors= \"ignore\")\n",
    "data.columns"
   ]
  },
  {
   "cell_type": "code",
   "execution_count": null,
   "id": "d6ee7841",
   "metadata": {},
   "outputs": [],
   "source": [
    "data.head()"
   ]
  },
  {
   "cell_type": "markdown",
   "id": "09305601",
   "metadata": {},
   "source": [
    "Categorizing vote_average columns\n",
    "\n",
    "We should cut the vote average value and make 4 categories popular , average , below_avg , not_popular to describe it more using categorize_col() function provided above."
   ]
  },
  {
   "cell_type": "code",
   "execution_count": null,
   "id": "bd15f2b1",
   "metadata": {},
   "outputs": [],
   "source": [
    "def catigorize_col(data, col, labels):\n",
    "    #stats = data[col].describe()\n",
    "    rating = [data[col].describe()['min'],\n",
    "              data[col].describe()['25%'],\n",
    "              data[col].describe()['50%'],\n",
    "              data[col].describe()['75%'],\n",
    "              data[col].describe()['max']]\n",
    "    \n",
    "    data[col] = pd.cut(data[col], rating , labels = labels , duplicates='drop')\n",
    "    return data"
   ]
  },
  {
   "cell_type": "code",
   "execution_count": null,
   "id": "94988eab",
   "metadata": {},
   "outputs": [],
   "source": [
    "labels = [ 'not_popular' , 'below_average' ,'average' , 'popular']\n",
    "catigorize_col(data ,'Vote_Average', labels)"
   ]
  },
  {
   "cell_type": "code",
   "execution_count": null,
   "id": "6d52c4bb",
   "metadata": {},
   "outputs": [],
   "source": [
    "data.head()"
   ]
  },
  {
   "cell_type": "code",
   "execution_count": null,
   "id": "87475528",
   "metadata": {},
   "outputs": [],
   "source": [
    "data['Vote_Average'].value_counts()"
   ]
  },
  {
   "cell_type": "code",
   "execution_count": null,
   "id": "a4d9a394",
   "metadata": {},
   "outputs": [],
   "source": [
    "data.dropna(inplace = True)\n",
    "data.isna().sum()"
   ]
  },
  {
   "cell_type": "markdown",
   "id": "dbc90cd8",
   "metadata": {},
   "source": [
    "Split genre into a list and then explode dataframe mean one item in single row of genre"
   ]
  },
  {
   "cell_type": "code",
   "execution_count": null,
   "id": "5e5f5d7f",
   "metadata": {},
   "outputs": [],
   "source": [
    "data['Genre'] = data['Genre'].str.split(', ')\n",
    "data = data.explode('Genre').reset_index(drop=True)\n",
    "data.head(15)"
   ]
  },
  {
   "cell_type": "markdown",
   "id": "6adbe186",
   "metadata": {},
   "source": [
    "Casting genre column into category"
   ]
  },
  {
   "cell_type": "code",
   "execution_count": null,
   "id": "bb568f06",
   "metadata": {},
   "outputs": [],
   "source": [
    "data['Genre'] = data['Genre'].astype('category')\n",
    "data['Genre'].dtype"
   ]
  },
  {
   "cell_type": "code",
   "execution_count": null,
   "id": "3868a580",
   "metadata": {},
   "outputs": [],
   "source": [
    "data.info()"
   ]
  },
  {
   "cell_type": "code",
   "execution_count": null,
   "id": "56c03870",
   "metadata": {},
   "outputs": [],
   "source": [
    "data.dtypes"
   ]
  },
  {
   "cell_type": "code",
   "execution_count": null,
   "id": "a959de40",
   "metadata": {},
   "outputs": [],
   "source": [
    "data.nunique()"
   ]
  },
  {
   "cell_type": "markdown",
   "id": "c0999c20",
   "metadata": {},
   "source": [
    "                                                                                 Visualization "
   ]
  },
  {
   "cell_type": "code",
   "execution_count": null,
   "id": "5a7d4487",
   "metadata": {},
   "outputs": [],
   "source": [
    "data['Genre'].describe()"
   ]
  },
  {
   "cell_type": "markdown",
   "id": "067d41e4",
   "metadata": {},
   "source": [
    "** Which Genre movies is most watched"
   ]
  },
  {
   "cell_type": "code",
   "execution_count": null,
   "id": "9727191e",
   "metadata": {},
   "outputs": [],
   "source": [
    "sns.catplot(y ='Genre', data = data , kind= 'count' ,\n",
    "            order= data['Genre'].value_counts().index,\n",
    "            color= 'green')\n",
    "plt.title('Most viewed Genre Movies')\n",
    "plt.show()"
   ]
  },
  {
   "cell_type": "markdown",
   "id": "0a033ad7",
   "metadata": {},
   "source": [
    "Which has highest vote average in vot_avg col."
   ]
  },
  {
   "cell_type": "code",
   "execution_count": null,
   "id": "987ee83b",
   "metadata": {},
   "outputs": [],
   "source": [
    "data['Vote_Average'].describe()"
   ]
  },
  {
   "cell_type": "code",
   "execution_count": null,
   "id": "f95e6377",
   "metadata": {},
   "outputs": [],
   "source": [
    "sns.catplot( y ='Vote_Average' , data = data , kind='count',\n",
    "            order =  data['Vote_Average'].value_counts().index,\n",
    "             color = 'blue' )\n",
    "plt.title('Popularity of movies')\n",
    "plt.show()"
   ]
  },
  {
   "cell_type": "markdown",
   "id": "ebc830e1",
   "metadata": {},
   "source": [
    "Most and least popular movies name with Popularity and Genre"
   ]
  },
  {
   "cell_type": "code",
   "execution_count": null,
   "id": "4fb6418b",
   "metadata": {},
   "outputs": [],
   "source": [
    "data[data['Popularity'] == data['Popularity'].max()]"
   ]
  },
  {
   "cell_type": "code",
   "execution_count": null,
   "id": "b52fb847",
   "metadata": {},
   "outputs": [],
   "source": [
    "data[data['Popularity'] == data['Popularity'].min()]"
   ]
  },
  {
   "cell_type": "code",
   "execution_count": null,
   "id": "181b8e2c",
   "metadata": {},
   "outputs": [],
   "source": [
    "data[data['Popularity'] == data['Popularity'].median()]"
   ]
  },
  {
   "cell_type": "markdown",
   "id": "503f019a",
   "metadata": {},
   "source": [
    "In which year most movies are released"
   ]
  },
  {
   "cell_type": "code",
   "execution_count": null,
   "id": "ad30f9dc",
   "metadata": {},
   "outputs": [],
   "source": [
    "data['Release_Date'].hist()\n",
    "plt.title(\"Year withh most Released movies\")\n",
    "plt.show()"
   ]
  },
  {
   "cell_type": "markdown",
   "id": "baafc51d",
   "metadata": {},
   "source": [
    "** Summary **\n",
    "* Using sns.catplot, I visualized the frequency of movie genres to identify the most common one. \n",
    "* I calculated the average vote per genre to find the highest-rated genre using the Average_vote column.\n",
    "* I listed movies in the most and least popularity. \n",
    "* Determined the year with the most movie releases using histogram."
   ]
  }
 ],
 "metadata": {
  "kernelspec": {
   "display_name": "Python 3",
   "language": "python",
   "name": "python3"
  },
  "language_info": {
   "codemirror_mode": {
    "name": "ipython",
    "version": 3
   },
   "file_extension": ".py",
   "mimetype": "text/x-python",
   "name": "python",
   "nbconvert_exporter": "python",
   "pygments_lexer": "ipython3",
   "version": "3.13.3"
  }
 },
 "nbformat": 4,
 "nbformat_minor": 5
}
